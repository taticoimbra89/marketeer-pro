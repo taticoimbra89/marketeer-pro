{
  "nbformat": 4,
  "nbformat_minor": 0,
  "metadata": {
    "colab": {
      "provenance": [],
      "include_colab_link": true
    },
    "kernelspec": {
      "name": "python3",
      "display_name": "Python 3"
    },
    "language_info": {
      "name": "python"
    }
  },
  "cells": [
    {
      "cell_type": "markdown",
      "metadata": {
        "id": "view-in-github",
        "colab_type": "text"
      },
      "source": [
        "<a href=\"https://colab.research.google.com/github/taticoimbra89/marketeer-pro/blob/main/Projeto_Assistente_Focado_em_Marketing_Digital.ipynb\" target=\"_parent\"><img src=\"https://colab.research.google.com/assets/colab-badge.svg\" alt=\"Open In Colab\"/></a>"
      ]
    },
    {
      "cell_type": "code",
      "source": [
        "%pip -q install google-genai"
      ],
      "metadata": {
        "id": "UCCbECexLk_h"
      },
      "execution_count": 1,
      "outputs": []
    },
    {
      "cell_type": "code",
      "source": [
        "# Configura a API Key do Google Gemini\n",
        "\n",
        "import os\n",
        "from google.colab import userdata\n",
        "\n",
        "os.environ[\"GOOGLE_API_KEY\"] = userdata.get('GOOGLE_API_KEY')"
      ],
      "metadata": {
        "id": "NfCqHo1tLk8P"
      },
      "execution_count": 2,
      "outputs": []
    },
    {
      "cell_type": "code",
      "source": [
        "# Configura o cliente da SDK do Gemini\n",
        "\n",
        "from google import genai\n",
        "\n",
        "client = genai.Client()\n",
        "\n",
        "MODEL_ID = \"gemini-2.0-flash\""
      ],
      "metadata": {
        "id": "bV4w0H5TLk5g"
      },
      "execution_count": 3,
      "outputs": []
    },
    {
      "cell_type": "code",
      "source": [
        "# Pergunta ao Gemini uma informação mais recente que seu conhecimento\n",
        "\n",
        "from IPython.display import HTML, Markdown\n",
        "\n",
        "# Perguntar pro modelo quando é a próxima imersão de IA ###############################################\n",
        "resposta = client.models.generate_content(\n",
        "    model=MODEL_ID,\n",
        "    contents=\"Quantos p's tem o marketing atualmente?\",\n",
        ")\n",
        "\n",
        "# Exibe a resposta na tela\n",
        "display(Markdown(f\"Response:\\n {resposta.text}\"))"
      ],
      "metadata": {
        "id": "HwVP7Xi34Zuw",
        "colab": {
          "base_uri": "https://localhost:8080/",
          "height": 371
        },
        "outputId": "a5ce1719-6f58-4fda-ece5-d77cac3247b7",
        "collapsed": true
      },
      "execution_count": 4,
      "outputs": [
        {
          "output_type": "display_data",
          "data": {
            "text/plain": [
              "<IPython.core.display.Markdown object>"
            ],
            "text/markdown": "Response:\n O marketing, tradicionalmente, é conhecido pelos 4 Ps:\n\n*   **Produto:** O que é vendido.\n*   **Preço:** Quanto custa.\n*   **Praça (Distribuição):** Onde é vendido.\n*   **Promoção (Comunicação):** Como é divulgado.\n\nNo entanto, ao longo do tempo, o conceito evoluiu, e muitos outros \"Ps\" foram propostos para complementar ou expandir o modelo original. Algumas extensões comuns incluem:\n\n*   **Pessoas:** Foco no atendimento e nas relações com clientes e funcionários.\n*   **Processos:** Eficiência e qualidade nos processos de entrega e atendimento.\n*   **Prova física:** O ambiente físico, a embalagem e outros elementos tangíveis que influenciam a percepção do cliente.\n*   **Produtividade e Qualidade:** Ênfase na melhoria contínua e na excelência.\n*   **Parcerias (Partners):** Estabelecimento de alianças estratégicas.\n*   **Personalização:** Adequação da oferta às necessidades individuais dos clientes.\n*   **Previsão:** Capacidade de antecipar tendências e demandas futuras.\n\nÉ importante notar que não há um consenso sobre quais \"Ps\" são os mais importantes ou relevantes. A escolha dos \"Ps\" a serem considerados depende do contexto, do setor e dos objetivos da empresa.\n\nPortanto, **não há um número fixo de \"Ps\" no marketing atualmente**. O modelo dos 4 Ps continua sendo fundamental, mas muitos profissionais e acadêmicos adotam modelos expandidos para refletir a complexidade do marketing moderno."
          },
          "metadata": {}
        }
      ]
    },
    {
      "cell_type": "code",
      "source": [
        "# @title\n",
        "# Pergunta ao Gemini uma informação utilizando a busca do Google como contexto\n",
        "\n",
        "response = client.models.generate_content(\n",
        "    model=MODEL_ID,\n",
        "    contents=\"O que é marketing 4.0?\",\n",
        "    config={\"tools\": [{\"google_search\": {}}]}\n",
        ")\n",
        "\n",
        "# Exibe a resposta na tela\n",
        "display(Markdown(f\"Resposta:\\n {response.text}\"))"
      ],
      "metadata": {
        "id": "yXaZd7iZ4ftw",
        "colab": {
          "base_uri": "https://localhost:8080/",
          "height": 290
        },
        "outputId": "e27aa465-bd16-46ca-9837-a37d328e8fe7",
        "collapsed": true
      },
      "execution_count": 5,
      "outputs": [
        {
          "output_type": "display_data",
          "data": {
            "text/plain": [
              "<IPython.core.display.Markdown object>"
            ],
            "text/markdown": "Resposta:\n Marketing 4.0 é uma abordagem de marketing que integra o mundo digital com o físico para criar uma experiência personalizada para o consumidor em todos os pontos de contato. Ele utiliza tecnologias como inteligência artificial, análise de dados e automação para entender e prever as necessidades do público, tornando a comunicação mais relevante e o relacionamento com os clientes mais próximo e eficaz.\n\nAlguns pontos chave sobre o Marketing 4.0:\n\n*   **Ênfase na experiência do cliente:** O objetivo é criar experiências personalizadas para os clientes, utilizando dados e tecnologias para entender melhor o que eles querem e construir abordagens com um toque humano.\n*   **Integração entre o online e o offline:** O Marketing 4.0 não separa os canais digitais e tradicionais, buscando uma convergência entre o mundo online e o offline.\n*   **Uso de tecnologia:** O conceito impulsiona as empresas a se adaptarem às novas tecnologias, como Big Data, Inteligência Artificial e Machine Learning, para obter insights e personalizar experiências.\n*   **Humanização da marca:** As ações de marketing devem ter uma abordagem mais humana para tocar diretamente na dor dos clientes, fazendo com que as pessoas se sintam mais próximas das marcas.\n\nO termo foi popularizado pelo livro \"Marketing 4.0: do tradicional ao digital\", de Philip Kotler e Hermawan Kartajaya, onde Kotler define as características do marketing na era digital, como sustentabilidade, relações digitais e experiência do usuário."
          },
          "metadata": {}
        }
      ]
    },
    {
      "cell_type": "code",
      "source": [
        "# Exibe a busca\n",
        "print(f\"Busca realizada: {response.candidates[0].grounding_metadata.web_search_queries}\")\n",
        "# Exibe as URLs nas quais ele se baseou\n",
        "print(f\"Páginas utilizadas na resposta: {', '.join([site.web.title for site in response.candidates[0].grounding_metadata.grounding_chunks])}\")\n",
        "print()\n",
        "display(HTML(response.candidates[0].grounding_metadata.search_entry_point.rendered_content))"
      ],
      "metadata": {
        "id": "xHSNlTd84heJ",
        "colab": {
          "base_uri": "https://localhost:8080/",
          "height": 117
        },
        "outputId": "037deb34-a369-4311-d325-c57d744a78cf",
        "collapsed": true
      },
      "execution_count": 6,
      "outputs": [
        {
          "output_type": "stream",
          "name": "stdout",
          "text": [
            "Busca realizada: ['o que é marketing 4.0']\n",
            "Páginas utilizadas na resposta: approach.com.br, pontodesign.com.br\n",
            "\n"
          ]
        },
        {
          "output_type": "display_data",
          "data": {
            "text/plain": [
              "<IPython.core.display.HTML object>"
            ],
            "text/html": [
              "<style>\n",
              ".container {\n",
              "  align-items: center;\n",
              "  border-radius: 8px;\n",
              "  display: flex;\n",
              "  font-family: Google Sans, Roboto, sans-serif;\n",
              "  font-size: 14px;\n",
              "  line-height: 20px;\n",
              "  padding: 8px 12px;\n",
              "}\n",
              ".chip {\n",
              "  display: inline-block;\n",
              "  border: solid 1px;\n",
              "  border-radius: 16px;\n",
              "  min-width: 14px;\n",
              "  padding: 5px 16px;\n",
              "  text-align: center;\n",
              "  user-select: none;\n",
              "  margin: 0 8px;\n",
              "  -webkit-tap-highlight-color: transparent;\n",
              "}\n",
              ".carousel {\n",
              "  overflow: auto;\n",
              "  scrollbar-width: none;\n",
              "  white-space: nowrap;\n",
              "  margin-right: -12px;\n",
              "}\n",
              ".headline {\n",
              "  display: flex;\n",
              "  margin-right: 4px;\n",
              "}\n",
              ".gradient-container {\n",
              "  position: relative;\n",
              "}\n",
              ".gradient {\n",
              "  position: absolute;\n",
              "  transform: translate(3px, -9px);\n",
              "  height: 36px;\n",
              "  width: 9px;\n",
              "}\n",
              "@media (prefers-color-scheme: light) {\n",
              "  .container {\n",
              "    background-color: #fafafa;\n",
              "    box-shadow: 0 0 0 1px #0000000f;\n",
              "  }\n",
              "  .headline-label {\n",
              "    color: #1f1f1f;\n",
              "  }\n",
              "  .chip {\n",
              "    background-color: #ffffff;\n",
              "    border-color: #d2d2d2;\n",
              "    color: #5e5e5e;\n",
              "    text-decoration: none;\n",
              "  }\n",
              "  .chip:hover {\n",
              "    background-color: #f2f2f2;\n",
              "  }\n",
              "  .chip:focus {\n",
              "    background-color: #f2f2f2;\n",
              "  }\n",
              "  .chip:active {\n",
              "    background-color: #d8d8d8;\n",
              "    border-color: #b6b6b6;\n",
              "  }\n",
              "  .logo-dark {\n",
              "    display: none;\n",
              "  }\n",
              "  .gradient {\n",
              "    background: linear-gradient(90deg, #fafafa 15%, #fafafa00 100%);\n",
              "  }\n",
              "}\n",
              "@media (prefers-color-scheme: dark) {\n",
              "  .container {\n",
              "    background-color: #1f1f1f;\n",
              "    box-shadow: 0 0 0 1px #ffffff26;\n",
              "  }\n",
              "  .headline-label {\n",
              "    color: #fff;\n",
              "  }\n",
              "  .chip {\n",
              "    background-color: #2c2c2c;\n",
              "    border-color: #3c4043;\n",
              "    color: #fff;\n",
              "    text-decoration: none;\n",
              "  }\n",
              "  .chip:hover {\n",
              "    background-color: #353536;\n",
              "  }\n",
              "  .chip:focus {\n",
              "    background-color: #353536;\n",
              "  }\n",
              "  .chip:active {\n",
              "    background-color: #464849;\n",
              "    border-color: #53575b;\n",
              "  }\n",
              "  .logo-light {\n",
              "    display: none;\n",
              "  }\n",
              "  .gradient {\n",
              "    background: linear-gradient(90deg, #1f1f1f 15%, #1f1f1f00 100%);\n",
              "  }\n",
              "}\n",
              "</style>\n",
              "<div class=\"container\">\n",
              "  <div class=\"headline\">\n",
              "    <svg class=\"logo-light\" width=\"18\" height=\"18\" viewBox=\"9 9 35 35\" fill=\"none\" xmlns=\"http://www.w3.org/2000/svg\">\n",
              "      <path fill-rule=\"evenodd\" clip-rule=\"evenodd\" d=\"M42.8622 27.0064C42.8622 25.7839 42.7525 24.6084 42.5487 23.4799H26.3109V30.1568H35.5897C35.1821 32.3041 33.9596 34.1222 32.1258 35.3448V39.6864H37.7213C40.9814 36.677 42.8622 32.2571 42.8622 27.0064V27.0064Z\" fill=\"#4285F4\"/>\n",
              "      <path fill-rule=\"evenodd\" clip-rule=\"evenodd\" d=\"M26.3109 43.8555C30.9659 43.8555 34.8687 42.3195 37.7213 39.6863L32.1258 35.3447C30.5898 36.3792 28.6306 37.0061 26.3109 37.0061C21.8282 37.0061 18.0195 33.9811 16.6559 29.906H10.9194V34.3573C13.7563 39.9841 19.5712 43.8555 26.3109 43.8555V43.8555Z\" fill=\"#34A853\"/>\n",
              "      <path fill-rule=\"evenodd\" clip-rule=\"evenodd\" d=\"M16.6559 29.8904C16.3111 28.8559 16.1074 27.7588 16.1074 26.6146C16.1074 25.4704 16.3111 24.3733 16.6559 23.3388V18.8875H10.9194C9.74388 21.2072 9.06992 23.8247 9.06992 26.6146C9.06992 29.4045 9.74388 32.022 10.9194 34.3417L15.3864 30.8621L16.6559 29.8904V29.8904Z\" fill=\"#FBBC05\"/>\n",
              "      <path fill-rule=\"evenodd\" clip-rule=\"evenodd\" d=\"M26.3109 16.2386C28.85 16.2386 31.107 17.1164 32.9095 18.8091L37.8466 13.8719C34.853 11.082 30.9659 9.3736 26.3109 9.3736C19.5712 9.3736 13.7563 13.245 10.9194 18.8875L16.6559 23.3388C18.0195 19.2636 21.8282 16.2386 26.3109 16.2386V16.2386Z\" fill=\"#EA4335\"/>\n",
              "    </svg>\n",
              "    <svg class=\"logo-dark\" width=\"18\" height=\"18\" viewBox=\"0 0 48 48\" xmlns=\"http://www.w3.org/2000/svg\">\n",
              "      <circle cx=\"24\" cy=\"23\" fill=\"#FFF\" r=\"22\"/>\n",
              "      <path d=\"M33.76 34.26c2.75-2.56 4.49-6.37 4.49-11.26 0-.89-.08-1.84-.29-3H24.01v5.99h8.03c-.4 2.02-1.5 3.56-3.07 4.56v.75l3.91 2.97h.88z\" fill=\"#4285F4\"/>\n",
              "      <path d=\"M15.58 25.77A8.845 8.845 0 0 0 24 31.86c1.92 0 3.62-.46 4.97-1.31l4.79 3.71C31.14 36.7 27.65 38 24 38c-5.93 0-11.01-3.4-13.45-8.36l.17-1.01 4.06-2.85h.8z\" fill=\"#34A853\"/>\n",
              "      <path d=\"M15.59 20.21a8.864 8.864 0 0 0 0 5.58l-5.03 3.86c-.98-2-1.53-4.25-1.53-6.64 0-2.39.55-4.64 1.53-6.64l1-.22 3.81 2.98.22 1.08z\" fill=\"#FBBC05\"/>\n",
              "      <path d=\"M24 14.14c2.11 0 4.02.75 5.52 1.98l4.36-4.36C31.22 9.43 27.81 8 24 8c-5.93 0-11.01 3.4-13.45 8.36l5.03 3.85A8.86 8.86 0 0 1 24 14.14z\" fill=\"#EA4335\"/>\n",
              "    </svg>\n",
              "    <div class=\"gradient-container\"><div class=\"gradient\"></div></div>\n",
              "  </div>\n",
              "  <div class=\"carousel\">\n",
              "    <a class=\"chip\" href=\"https://vertexaisearch.cloud.google.com/grounding-api-redirect/AbF9wXEy0WO-c4gKIDkCYjzEbih5KQMU9Jata-7xB10GoI_IKlFquGaRar6h1hgttETfE-W6wfG03pwh3dLMyDZRoFr8W5fQdf2NbgsFynS9witcf86pyKWVJXrpHvajj01X6V6b5ljVmUOCOjhYHCJopHgw5sszqCBLNK5ZLZ8cZlvHJt0mtgsVBdi-v49u8ySwEUqvLQ4Ypu8_qvnl8DE=\">o que é marketing 4.0</a>\n",
              "  </div>\n",
              "</div>\n"
            ]
          },
          "metadata": {}
        }
      ]
    },
    {
      "cell_type": "code",
      "source": [
        "# Instalar Framework ADK de agentes do Google ################################################\n",
        "!pip install -q google-adk"
      ],
      "metadata": {
        "id": "hvZ3UnPI4jhJ",
        "colab": {
          "base_uri": "https://localhost:8080/"
        },
        "outputId": "69d725ba-488d-4dfc-b7af-3f54cd268c54"
      },
      "execution_count": 7,
      "outputs": [
        {
          "output_type": "stream",
          "name": "stdout",
          "text": [
            "\u001b[?25l   \u001b[90m━━━━━━━━━━━━━━━━━━━━━━━━━━━━━━━━━━━━━━━━\u001b[0m \u001b[32m0.0/1.2 MB\u001b[0m \u001b[31m?\u001b[0m eta \u001b[36m-:--:--\u001b[0m\r\u001b[2K   \u001b[91m━━━━━━━━━━━━━━━━━━━━━━━━━━\u001b[0m\u001b[91m╸\u001b[0m\u001b[90m━━━━━━━━━━━━━\u001b[0m \u001b[32m0.8/1.2 MB\u001b[0m \u001b[31m26.4 MB/s\u001b[0m eta \u001b[36m0:00:01\u001b[0m\r\u001b[2K   \u001b[90m━━━━━━━━━━━━━━━━━━━━━━━━━━━━━━━━━━━━━━━━\u001b[0m \u001b[32m1.2/1.2 MB\u001b[0m \u001b[31m17.8 MB/s\u001b[0m eta \u001b[36m0:00:00\u001b[0m\n",
            "\u001b[?25h\u001b[?25l   \u001b[90m━━━━━━━━━━━━━━━━━━━━━━━━━━━━━━━━━━━━━━━━\u001b[0m \u001b[32m0.0/232.1 kB\u001b[0m \u001b[31m?\u001b[0m eta \u001b[36m-:--:--\u001b[0m\r\u001b[2K   \u001b[90m━━━━━━━━━━━━━━━━━━━━━━━━━━━━━━━━━━━━━━━━\u001b[0m \u001b[32m232.1/232.1 kB\u001b[0m \u001b[31m12.7 MB/s\u001b[0m eta \u001b[36m0:00:00\u001b[0m\n",
            "\u001b[?25h\u001b[?25l   \u001b[90m━━━━━━━━━━━━━━━━━━━━━━━━━━━━━━━━━━━━━━━━\u001b[0m \u001b[32m0.0/95.2 kB\u001b[0m \u001b[31m?\u001b[0m eta \u001b[36m-:--:--\u001b[0m\r\u001b[2K   \u001b[90m━━━━━━━━━━━━━━━━━━━━━━━━━━━━━━━━━━━━━━━━\u001b[0m \u001b[32m95.2/95.2 kB\u001b[0m \u001b[31m6.3 MB/s\u001b[0m eta \u001b[36m0:00:00\u001b[0m\n",
            "\u001b[?25h\u001b[?25l   \u001b[90m━━━━━━━━━━━━━━━━━━━━━━━━━━━━━━━━━━━━━━━━\u001b[0m \u001b[32m0.0/217.1 kB\u001b[0m \u001b[31m?\u001b[0m eta \u001b[36m-:--:--\u001b[0m\r\u001b[2K   \u001b[90m━━━━━━━━━━━━━━━━━━━━━━━━━━━━━━━━━━━━━━━━\u001b[0m \u001b[32m217.1/217.1 kB\u001b[0m \u001b[31m9.7 MB/s\u001b[0m eta \u001b[36m0:00:00\u001b[0m\n",
            "\u001b[2K   \u001b[90m━━━━━━━━━━━━━━━━━━━━━━━━━━━━━━━━━━━━━━━━\u001b[0m \u001b[32m334.1/334.1 kB\u001b[0m \u001b[31m19.3 MB/s\u001b[0m eta \u001b[36m0:00:00\u001b[0m\n",
            "\u001b[2K   \u001b[90m━━━━━━━━━━━━━━━━━━━━━━━━━━━━━━━━━━━━━━━━\u001b[0m \u001b[32m125.1/125.1 kB\u001b[0m \u001b[31m7.6 MB/s\u001b[0m eta \u001b[36m0:00:00\u001b[0m\n",
            "\u001b[2K   \u001b[90m━━━━━━━━━━━━━━━━━━━━━━━━━━━━━━━━━━━━━━━━\u001b[0m \u001b[32m65.8/65.8 kB\u001b[0m \u001b[31m4.1 MB/s\u001b[0m eta \u001b[36m0:00:00\u001b[0m\n",
            "\u001b[2K   \u001b[90m━━━━━━━━━━━━━━━━━━━━━━━━━━━━━━━━━━━━━━━━\u001b[0m \u001b[32m119.0/119.0 kB\u001b[0m \u001b[31m6.8 MB/s\u001b[0m eta \u001b[36m0:00:00\u001b[0m\n",
            "\u001b[2K   \u001b[90m━━━━━━━━━━━━━━━━━━━━━━━━━━━━━━━━━━━━━━━━\u001b[0m \u001b[32m194.9/194.9 kB\u001b[0m \u001b[31m7.5 MB/s\u001b[0m eta \u001b[36m0:00:00\u001b[0m\n",
            "\u001b[2K   \u001b[90m━━━━━━━━━━━━━━━━━━━━━━━━━━━━━━━━━━━━━━━━\u001b[0m \u001b[32m62.5/62.5 kB\u001b[0m \u001b[31m3.8 MB/s\u001b[0m eta \u001b[36m0:00:00\u001b[0m\n",
            "\u001b[2K   \u001b[90m━━━━━━━━━━━━━━━━━━━━━━━━━━━━━━━━━━━━━━━━\u001b[0m \u001b[32m103.3/103.3 kB\u001b[0m \u001b[31m6.4 MB/s\u001b[0m eta \u001b[36m0:00:00\u001b[0m\n",
            "\u001b[2K   \u001b[90m━━━━━━━━━━━━━━━━━━━━━━━━━━━━━━━━━━━━━━━━\u001b[0m \u001b[32m44.4/44.4 kB\u001b[0m \u001b[31m2.2 MB/s\u001b[0m eta \u001b[36m0:00:00\u001b[0m\n",
            "\u001b[2K   \u001b[90m━━━━━━━━━━━━━━━━━━━━━━━━━━━━━━━━━━━━━━━━\u001b[0m \u001b[32m72.0/72.0 kB\u001b[0m \u001b[31m4.7 MB/s\u001b[0m eta \u001b[36m0:00:00\u001b[0m\n",
            "\u001b[?25h"
          ]
        }
      ]
    },
    {
      "cell_type": "code",
      "execution_count": 8,
      "metadata": {
        "id": "aePV2bdfDeoW"
      },
      "outputs": [],
      "source": [
        "from google.adk.agents import Agent\n",
        "from google.adk.runners import Runner\n",
        "from google.adk.sessions import InMemorySessionService\n",
        "from google.adk.tools import google_search\n",
        "from google.genai import types  # Para criar conteúdos (Content e Part)\n",
        "from datetime import date\n",
        "import textwrap # Para formatar melhor a saída de texto\n",
        "from IPython.display import display, Markdown # Para exibir texto formatado no Colab\n",
        "import requests # Para fazer requisições HTTP\n",
        "import warnings\n",
        "\n",
        "warnings.filterwarnings(\"ignore\")"
      ]
    },
    {
      "cell_type": "code",
      "source": [
        "# Função auxiliar que envia uma mensagem para um agente via Runner e retorna a resposta final\n",
        "def call_agent(agent: Agent, message_text: str) -> str:\n",
        "    # Cria um serviço de sessão em memória\n",
        "    session_service = InMemorySessionService()\n",
        "    # Cria uma nova sessão (você pode personalizar os IDs conforme necessário)\n",
        "    session = session_service.create_session(app_name=agent.name, user_id=\"user1\", session_id=\"session1\")\n",
        "    # Cria um Runner para o agente\n",
        "    runner = Runner(agent=agent, app_name=agent.name, session_service=session_service)\n",
        "    # Cria o conteúdo da mensagem de entrada\n",
        "    content = types.Content(role=\"user\", parts=[types.Part(text=message_text)])\n",
        "\n",
        "    final_response = \"\"\n",
        "    # Itera assincronamente pelos eventos retornados durante a execução do agente\n",
        "    for event in runner.run(user_id=\"user1\", session_id=\"session1\", new_message=content):\n",
        "        if event.is_final_response():\n",
        "          for part in event.content.parts:\n",
        "            if part.text is not None:\n",
        "              final_response += part.text\n",
        "              final_response += \"\\n\"\n",
        "    return final_response"
      ],
      "metadata": {
        "id": "_xP4lWhsS5ko"
      },
      "execution_count": 9,
      "outputs": []
    },
    {
      "cell_type": "code",
      "source": [
        "# Função auxiliar para exibir texto formatado em Markdown no Colab\n",
        "def to_markdown(text):\n",
        "  text = text.replace('•', '  *')\n",
        "  return Markdown(textwrap.indent(text, '> ', predicate=lambda _: True))"
      ],
      "metadata": {
        "id": "8dosiodaxfFR"
      },
      "execution_count": 10,
      "outputs": []
    },
    {
      "cell_type": "code",
      "source": [
        "##########################################\n",
        "# --- Módulo 1: Planejamento Estratégico --- #\n",
        "##########################################\n",
        "def get_user_planning_info():\n",
        "\n",
        "    \"\"\"Coleta informações básicas do usuário para o planejamento.\"\"\"\n",
        "\n",
        "    print(\"--- 📝 Planejamento Estratégico Inicial ---\")\n",
        "    user_info = {}\n",
        "    user_info['company_name'] = input(\"Qual o nome da sua empresa/marca? \")\n",
        "    user_info['niche'] = input(\"Qual seu nicho de mercado? \")\n",
        "    user_info['target_audience_description'] = input(\"Descreva seu público-alvo: \")\n",
        "    user_info['products_services'] = input(\"Quais seus principais produtos/serviços? \")\n",
        "    user_info['marketing_goals'] = input(\"Quais seus objetivos de marketing (reconhecimento, gerar leads, aumentar vendas)? \")\n",
        "    user_info['brand_voice'] = input(\"Qual a voz e tom da sua marca (formal, informal, divertido, técnico)? \")\n",
        "    user_info['user_social_media_links'] = {}\n",
        "    if input(\"Você usa Instagram? (s/n): \").lower() == 's':\n",
        "        user_info['user_social_media_links']['instagram'] = input(\"  Insira o link do Instagram: \")\n",
        "    if input(\"Você usa Facebook? (s/n): \").lower() == 's':\n",
        "        user_info['user_social_media_links']['facebook'] = input(\"  Insira o link do Facebook: \")\n",
        "    if input(\"Você usa TikTok? (s/n): \").lower() == 's':\n",
        "        user_info['user_social_media_links']['tiktok'] = input(\"  Insira o link do TikTok: \")\n",
        "    if input(\"Você usa Pinterest? (s/n): \").lower() == 's':\n",
        "        user_info['user_social_media_links']['pinterest'] = input(\"  Insira o link do Pinterest: \")\n",
        "    if input(\"Você usa outra rede social? (s/n): \").lower() == 's':\n",
        "        user_info['user_social_media_links']['outra'] = input(\"  Insira o link da outra rede social: \")\n",
        "\n",
        "\n",
        "    # Adicionar mais redes conforme necessário\n",
        "    print(\"Informações de planejamento coletadas com sucesso!\\n\")\n",
        "    return user_info"
      ],
      "metadata": {
        "id": "o8bqIfi_DyH8"
      },
      "execution_count": 12,
      "outputs": []
    },
    {
      "cell_type": "code",
      "source": [
        "##########################################\n",
        "# --- Módulo 2: Análise de Concorrentes --- #\n",
        "##########################################\n",
        "def agente_analisador_concorrentes(user_profile_data, num_competitors=3):\n",
        "\n",
        "    \"\"\"Agente para analisar concorrentes.\"\"\"\n",
        "\n",
        "    competitor_links = []\n",
        "    print(f\"--- 🕵️ Análise de Concorrentes ---\")\n",
        "    print(f\"Por favor, forneça os links de até {num_competitors} concorrentes.\")\n",
        "    for i in range(num_competitors):\n",
        "        link = input(f\"Concorrente {i+1} (ou deixe em branco): \")\n",
        "        if link:\n",
        "            competitor_links.append(link.strip())\n",
        "        else:\n",
        "            break\n",
        "    if not competitor_links:\n",
        "        return \"Nenhum concorrente fornecido para análise.\"\n",
        "\n",
        "    instruction_analista = f\"\"\"\n",
        "    Você é um Analista de Marketing Digital especializado em análise competitiva.\n",
        "    A empresa do usuário é '{user_profile_data.get('company_name', 'N/A')}', atua no nicho '{user_profile_data.get('niche', 'N/A')}'\n",
        "    e tem como público-alvo '{user_profile_data.get('target_audience_description', 'N/A')}'.\n",
        "    Os objetivos de marketing são: '{user_profile_data.get('marketing_goals', 'N/A')}'.\n",
        "\n",
        "    Sua tarefa é analisar os seguintes perfis de concorrentes: {', '.join(competitor_links)}.\n",
        "    Use a ferramenta de busca do Google (google_search) para obter informações públicas sobre cada concorrente,\n",
        "    analisando seus websites, menções na mídia e, se possível, perfis de redes sociais.\n",
        "\n",
        "    Para cada concorrente (ou um resumo consolidado se for mais eficiente), forneça um relatório com:\n",
        "    1.  Principais temas de conteúdo abordados.\n",
        "    2.  Formatos de conteúdo mais utilizados (ex: blog posts, vídeos, infográficos, posts em redes sociais).\n",
        "    3.  Estimativa da frequência de postagem (alta, média, baixa).\n",
        "    4.  Pontos fortes da estratégia de conteúdo deles.\n",
        "    5.  Pontos fracos ou oportunidades que eles podem estar perdendo.\n",
        "    6.  Hashtags comuns ou estratégias de palavras-chave que parecem usar.\n",
        "    7.  Com base na sua análise, identifique 2-3 oportunidades de diferenciação ou lacunas de conteúdo\n",
        "        que a empresa do usuário poderia explorar.\n",
        "\n",
        "    Seja objetivo e forneça insights acionáveis.\n",
        "    Se não encontrar informações suficientes sobre um concorrente específico através da busca, mencione isso.\n",
        "    \"\"\"\n",
        "\n",
        "    analista = Agent(\n",
        "        name=\"agente_analista_concorrentes_mktdigital\",\n",
        "        model=\"gemini-2.0-flash\",\n",
        "        instruction=instruction_analista,\n",
        "        description=\"Agente que analisa os concorrentes usando busca no Google.\",\n",
        "        tools=[google_search]\n",
        "    )\n",
        "\n",
        "    # A entrada pode ser simples, já que a instrução é detalhada\n",
        "    entrada_para_agente = f\"Analisar os concorrentes: {', '.join(competitor_links)} para a empresa com nicho {user_profile_data.get('niche')}.\"\n",
        "    report = call_agent(analista, entrada_para_agente)\n",
        "    return report"
      ],
      "metadata": {
        "id": "6emAZF85o1J-"
      },
      "execution_count": 13,
      "outputs": []
    },
    {
      "cell_type": "code",
      "source": [
        "##########################################\n",
        "# --- Módulo 3: Ideias de posts mensais --- #\n",
        "##########################################\n",
        "def agente_gerador_ideias_posts(user_profile_data, competitor_analysis_summary, num_ideas=10):\n",
        "\n",
        "    \"\"\"Gerador de ideias de posts mensais.\"\"\"\n",
        "    print(f\"--- 💡 Ideias de posts mensais ---\")\n",
        "\n",
        "    instruction_gerador = f\"\"\"\n",
        "    Você é um Estrategista de Conteúdo Criativo e especialista em Marketing Digital.\n",
        "    A empresa do usuário é '{user_profile_data.get('company_name', 'N/A')}',\n",
        "    nicho: '{user_profile_data.get('niche', 'N/A')}',\n",
        "    público-alvo: '{user_profile_data.get('target_audience_description', 'N/A')}',\n",
        "    objetivos de marketing: '{user_profile_data.get('marketing_goals', 'N/A')}',\n",
        "    voz da marca: '{user_profile_data.get('brand_voice', 'N/A')}'.\n",
        "\n",
        "    Um resumo da análise de concorrentes é:\n",
        "    {competitor_analysis_summary if competitor_analysis_summary else \"Nenhuma análise de concorrentes fornecida.\"}\n",
        "\n",
        "    Sua tarefa é gerar um calendário com {num_ideas} ideias de posts para redes sociais (conforme aplicável ao nicho) para o próximo mês.\n",
        "    Use a ferramenta de busca (google_search) para identificar tendências atuais no nicho '{user_profile_data.get('niche')}'\n",
        "    e datas comemorativas relevantes que possam ser aproveitadas.\n",
        "\n",
        "    Para cada ideia, forneça:\n",
        "    1.  Tema/Título do Post.\n",
        "    2.  Pilar de Conteúdo (Ex: Educacional, Inspiracional, Entretenimento, Promocional, Bastidores, Prova Social).\n",
        "    3.  Sugestão de Formato (Ex: Imagem única, Carrossel, Vídeo Curto/Reels, Story Interativo, Enquete, Live).\n",
        "    4.  Rascunho da Legenda (incluindo um Call to Action - CTA - alinhado aos objetivos do usuário).\n",
        "    5.  3-5 sugestões de Hashtags relevantes (mix de nicho, alcance e específicas).\n",
        "\n",
        "    Priorize ideias que ajudem a alcançar os objetivos de marketing do usuário e que se diferenciem\n",
        "    positivamente dos concorrentes (se a análise estiver disponível).\n",
        "    Apresente as ideias de forma clara e organizada.\n",
        "    \"\"\"\n",
        "\n",
        "    gerador_ideias = Agent(\n",
        "        name=\"agente_gerador_ideias_mktdigital\",\n",
        "        model=\"gemini-2.0-flash\",\n",
        "        instruction=instruction_gerador,\n",
        "        description=\"Agente que gera ideias de posts mensais com base no perfil do usuário, concorrentes e tendências.\",\n",
        "        tools=[google_search]\n",
        "    )\n",
        "\n",
        "    entrada_para_agente = (\n",
        "        f\"Gerar {num_ideas} ideias de posts para {user_profile_data.get('company_name')} \"\n",
        "        f\"considerando o nicho {user_profile_data.get('niche')} e a análise de concorrentes.\"\n",
        "    )\n",
        "    post_ideas_report = call_agent(gerador_ideias, entrada_para_agente)\n",
        "    return post_ideas_report"
      ],
      "metadata": {
        "id": "YpEJ6_VzrM4G"
      },
      "execution_count": 14,
      "outputs": []
    },
    {
      "cell_type": "code",
      "source": [
        "##########################################\n",
        "# --- Módulo 4: Melhores Horários de Agendamento --- #\n",
        "##########################################\n",
        "def agente_otimizador_horarios(user_profile_data):\n",
        "\n",
        "    \"\"\"Agente para sugerir melhores horários de postagem.\"\"\"\n",
        "    print(f\"--- ⏰ Melhores Horários para Agendamento ---\")\n",
        "\n",
        "    plataformas_ativas = [p for p, l in user_profile_data.get('user_social_media_links', {}).items() if l]\n",
        "    if not plataformas_ativas:\n",
        "        return \"Nenhuma rede social ativa identificada no perfil do usuário para sugerir horários.\"\n",
        "\n",
        "    instruction_otimizador = f\"\"\"\n",
        "    Você é um Especialista em Performance de Redes Sociais.\n",
        "    A empresa do usuário atua no nicho '{user_profile_data.get('niche', 'N/A')}'\n",
        "    e tem como público-alvo '{user_profile_data.get('target_audience_description', 'N/A')}'.\n",
        "    As redes sociais ativas são: {', '.join(plataformas_ativas)}.\n",
        "\n",
        "    Sua tarefa é, para cada uma das plataformas ativas, sugerir os melhores dias da semana e\n",
        "    intervalos de horários para postar conteúdo, visando maximizar o alcance e o engajamento.\n",
        "    Use a ferramenta de busca (google_search) para encontrar estudos de mercado recentes,\n",
        "    artigos e dados gerais sobre os horários de pico de atividade para o nicho e público-alvo especificados\n",
        "    em cada uma das plataformas ({', '.join(plataformas_ativas)}).\n",
        "\n",
        "    Apresente as sugestões de forma clara, separadas por plataforma.\n",
        "    Exemplo:\n",
        "    Instagram:\n",
        "    - Terças: 10h-13h, 18h-20h\n",
        "    - Quintas: 11h-14h\n",
        "    Facebook:\n",
        "    - ...\n",
        "\n",
        "    Se houver dicas adicionais sobre frequência de postagem para essas plataformas e nicho, inclua-as.\n",
        "    Lembre-se que estas são sugestões gerais e o ideal é o usuário testar e analisar seus próprios dados.\n",
        "    \"\"\"\n",
        "\n",
        "    otimizador = Agent(\n",
        "        name=\"agente_otimizador_horarios_mktdigital\",\n",
        "        model=\"gemini-2.0-flash\",\n",
        "        instruction=instruction_otimizador,\n",
        "        description=\"Agente que sugere os melhores horários de postagem usando busca.\",\n",
        "        tools=[google_search]\n",
        "    )\n",
        "    entrada_para_agente = (\n",
        "        f\"Sugerir melhores horários de postagem para nicho {user_profile_data.get('niche')} \"\n",
        "        f\"nas plataformas {', '.join(plataformas_ativas)}.\"\n",
        "    )\n",
        "    horarios_report = call_agent(otimizador, entrada_para_agente)\n",
        "    return horarios_report"
      ],
      "metadata": {
        "id": "CWKDuGGos4Cu"
      },
      "execution_count": 15,
      "outputs": []
    },
    {
      "cell_type": "code",
      "source": [
        "##########################################\n",
        "# --- Módulo 5: Análise do Perfil e sugestões de melhoria --- #\n",
        "##########################################\n",
        "\n",
        "def agente_analisador_perfil_usuario(user_profile_data):\n",
        "\n",
        "    \"\"\"Agente para analisar o perfil do usuário e sugerir melhorias.\"\"\"\n",
        "    print(f\"--- 📊 Análise do Perfil e Sugestões de Melhoria ---\")\n",
        "\n",
        "    links_usuario = [link for link in user_profile_data.get('user_social_media_links', {}).values() if link]\n",
        "    if not links_usuario:\n",
        "        return \"Nenhum link de rede social do usuário fornecido para análise.\"\n",
        "\n",
        "    instruction_analista_usuario = f\"\"\"\n",
        "    Você é um Consultor de Marketing Digital especializado em otimização de perfis de redes sociais.\n",
        "    A empresa do usuário é '{user_profile_data.get('company_name', 'N/A')}',\n",
        "    nicho: '{user_profile_data.get('niche', 'N/A')}',\n",
        "    público-alvo: '{user_profile_data.get('target_audience_description', 'N/A')}',\n",
        "    objetivos de marketing: '{user_profile_data.get('marketing_goals', 'N/A')}'.\n",
        "    Os links dos perfis do usuário para análise são: {', '.join(links_usuario)}.\n",
        "\n",
        "    Sua tarefa é, usando a ferramenta de busca (google_search) para acessar e analisar o conteúdo PÚBLICO\n",
        "    disponível nos links fornecidos, fornecer um diagnóstico e sugestões de melhoria.\n",
        "    Se a busca não retornar informações suficientes sobre um perfil específico, mencione isso.\n",
        "\n",
        "    Avalie os seguintes aspectos para cada perfil (ou de forma geral):\n",
        "    1.  **Primeira Impressão:** Foto de perfil e capa/banner (qualidade, relevância para a marca).\n",
        "    2.  **Biografia/Descrição do Perfil:** Clareza, uso de palavras-chave do nicho, inclusão de um CTA (Call to Action) eficaz, uso do link na bio.\n",
        "    3.  **Conteúdo Recente (últimos 5-10 posts públicos visíveis):**\n",
        "        *   Qualidade visual (imagens/vídeos).\n",
        "        *   Qualidade textual (legendas, storytelling).\n",
        "        *   Consistência da identidade visual e tom de voz (alinhado com '{user_profile_data.get('brand_voice', 'N/A')}').\n",
        "        *   Variedade de formatos de conteúdo.\n",
        "        *   Uso de CTAs nos posts.\n",
        "        *   Eficácia aparente das hashtags utilizadas.\n",
        "        *   Interação visível (comentários, respostas - se público).\n",
        "    4.  **Uso de Recursos da Plataforma:** (Ex: Destaques no Instagram, Guias, Reels, etc. - se inferível publicamente).\n",
        "\n",
        "    Com base na sua análise, forneça:\n",
        "    -   Uma lista dos principais pontos fortes identificados.\n",
        "    -   Uma lista de 5-7 sugestões de melhoria específicas e acionáveis, priorizadas pelo impacto potencial\n",
        "        em alcançar os objetivos de marketing ('{user_profile_data.get('marketing_goals', 'N/A')}').\n",
        "\n",
        "    Seja construtivo e prático nas suas sugestões.\n",
        "    \"\"\"\n",
        "\n",
        "    analista_perfil = Agent(\n",
        "        name=\"agente_analista_perfil_usuario_mktdigital\",\n",
        "        model=\"gemini-1.5-flash-latest\", # ou gemini-1.5-pro se a tarefa for muito complexa\n",
        "        instruction=instruction_analista_usuario,\n",
        "        description=\"Agente que analisa perfis de redes sociais do usuário e sugere melhorias.\",\n",
        "        tools=[google_search]\n",
        "    )\n",
        "\n",
        "    entrada_para_agente = (\n",
        "        f\"Analisar perfis do usuário: {', '.join(links_usuario)} para a empresa {user_profile_data.get('company_name')}.\"\n",
        "    )\n",
        "\n",
        "    diagnostico_report = call_agent(analista_perfil, entrada_para_agente)\n",
        "    return diagnostico_report"
      ],
      "metadata": {
        "id": "HTyIHExSuT9m"
      },
      "execution_count": 16,
      "outputs": []
    },
    {
      "cell_type": "code",
      "source": [
        "def run_marketing_assistant():\n",
        "    print(\"🚀 Bem-vindo ao Assistente Focado em Marketing Digital! 🚀\\n\")\n",
        "    data_de_hoje = date.today().strftime(\"%d/%m/%Y\") # Pode ser útil para alguns agentes\n",
        "\n",
        "    # --- Módulo 1: Coleta de Dados ---\n",
        "    user_profile = get_user_planning_info()\n",
        "\n",
        "    # --- Menu de Opções para o Usuário ---\n",
        "    while True:\n",
        "        print(\"\\nQual módulo você gostaria de acessar?\")\n",
        "        print(\"1. Análise de Concorrentes\")\n",
        "        print(\"2. Ideias de posts mensais\")\n",
        "        print(\"3. Otimização de Horários\")\n",
        "        print(\"4. Análise do meu perfil e sugestões de melhoria\")\n",
        "        print(\"5. Executar todos os módulos em sequência\")\n",
        "        print(\"0. Finalizar\")\n",
        "\n",
        "        choice = input(\"Escolha uma opção: \")\n",
        "\n",
        "        competitor_analysis_result = None # Para armazenar resultado se o módulo 1 for executado\n",
        "\n",
        "        if choice == '1':\n",
        "            print(\"\\n--- Executando Análise de Concorrentes ---\")\n",
        "            competitor_analysis_result = agente_analisador_concorrentes(user_profile)\n",
        "            display(to_markdown(competitor_analysis_result))\n",
        "        elif choice == '2':\n",
        "            print(\"\\n--- Executando Geração de Ideias de Posts ---\")\n",
        "            if not competitor_analysis_result:\n",
        "                run_competitor_first = input(\"A análise de concorrentes não foi executada. Deseja executá-la primeiro para melhores resultados? (s/n): \").lower()\n",
        "                if run_competitor_first == 's':\n",
        "                    competitor_analysis_result = agente_analisador_concorrentes(user_profile)\n",
        "                    display(to_markdown(f\"**Resultado da Análise de Concorrentes:**\\n{competitor_analysis_result}\"))\n",
        "\n",
        "            post_ideas = agente_gerador_ideias_posts(user_profile, competitor_analysis_result)\n",
        "            display(to_markdown(post_ideas))\n",
        "        elif choice == '3':\n",
        "            print(\"\\n--- Executando Otimização de Horários ---\")\n",
        "            schedule_suggestions = agente_otimizador_horarios(user_profile)\n",
        "            display(to_markdown(schedule_suggestions))\n",
        "        elif choice == '4':\n",
        "            print(\"\\n--- Executando Análise do Perfil do Usuário ---\")\n",
        "            profile_analysis = agente_analisador_perfil_usuario(user_profile)\n",
        "            display(to_markdown(profile_analysis))\n",
        "        elif choice == '5':\n",
        "            print(\"\\n--- Executando Todos os Módulos em Sequência ---\")\n",
        "            print(\"\\n--- Análise de Concorrentes ---\")\n",
        "            competitor_analysis_result = agente_analisador_concorrentes(user_profile)\n",
        "            display(to_markdown(f\"**Resultado da Análise de Concorrentes:**\\n{competitor_analysis_result}\"))\n",
        "\n",
        "            print(\"\\n--- Geração de Ideias de Posts ---\")\n",
        "            post_ideas = agente_gerador_ideias_posts(user_profile, competitor_analysis_result)\n",
        "            display(to_markdown(f\"**Ideias de Posts:**\\n{post_ideas}\"))\n",
        "\n",
        "            print(\"\\n--- Otimização de Horários ---\")\n",
        "            schedule_suggestions = agente_otimizador_horarios(user_profile)\n",
        "            display(to_markdown(f\"**Sugestões de Horários:**\\n{schedule_suggestions}\"))\n",
        "\n",
        "            print(\"\\n--- Análise do Perfil do Usuário ---\")\n",
        "            profile_analysis = agente_analisador_perfil_usuario(user_profile)\n",
        "            display(to_markdown(f\"**Análise do Perfil do Usuário:**\\n{profile_analysis}\"))\n",
        "            print(\"-------------------------------------------\")\n",
        "\n",
        "        elif choice == '0':\n",
        "            print(\"Obrigado por usar o Assistente de Marketing Digital! Até logo! 👋\")\n",
        "            break\n",
        "        else:\n",
        "            print(\"Opção inválida. Por favor, tente novamente.\")\n",
        "\n",
        "if __name__ == \"__main__\":\n",
        "    run_marketing_assistant()"
      ],
      "metadata": {
        "colab": {
          "base_uri": "https://localhost:8080/",
          "height": 1000
        },
        "id": "OqaiubfXutUK",
        "outputId": "1e52cab5-b2e4-40c0-a029-65ec3bdc362c"
      },
      "execution_count": 17,
      "outputs": [
        {
          "name": "stdout",
          "output_type": "stream",
          "text": [
            "🚀 Bem-vindo ao Assistente Focado em Marketing Digital! 🚀\n",
            "\n",
            "--- 📝 Planejamento Estratégico Inicial ---\n",
            "Qual o nome da sua empresa/marca? Multigeek\n",
            "Qual seu nicho de mercado? Nerd e Geek\n",
            "Descreva seu público-alvo: Jovens e adultos que amam a cultura pop.\n",
            "Quais seus principais produtos/serviços? Jovens e adultos que amam a cultura pop.\n",
            "Quais seus objetivos de marketing (reconhecimento, gerar leads, aumentar vendas)? Aumentar vendas.\n",
            "Qual a voz e tom da sua marca (formal, informal, divertido, técnico)? Informal e divertido.\n",
            "Você usa Instagram? (s/n): s\n",
            "  Insira o link do Instagram:  https://www.instagram.com/lojamultigeek/\n",
            "Você usa Facebook? (s/n): s\n",
            "  Insira o link do Facebook: https://www.facebook.com/lojamultigeek\n",
            "Você usa TikTok? (s/n): n\n",
            "Você usa Pinterest? (s/n): s\n",
            "  Insira o link do Pinterest: https://www.pinterest.com/lojamultigeek/\n",
            "Você usa outra rede social? (s/n): n\n",
            "Informações de planejamento coletadas com sucesso!\n",
            "\n",
            "\n",
            "Qual módulo você gostaria de acessar?\n",
            "1. Análise de Concorrentes\n",
            "2. Ideias de posts mensais\n",
            "3. Otimização de Horários\n",
            "4. Análise do meu perfil e sugestões de melhoria\n",
            "5. Executar todos os módulos em sequência\n",
            "0. Finalizar\n",
            "Escolha uma opção: 2\n",
            "\n",
            "--- Executando Geração de Ideias de Posts ---\n",
            "A análise de concorrentes não foi executada. Deseja executá-la primeiro para melhores resultados? (s/n): s\n",
            "--- 🕵️ Análise de Concorrentes ---\n",
            "Por favor, forneça os links de até 3 concorrentes.\n",
            "Concorrente 1 (ou deixe em branco): https://www.nerdstore.com.br/?srsltid=AfmBOopv5vgteaQ54dVxqeMJITahmsFW4lmOCv9B-U8aKtMvXZkGzjHx\n",
            "Concorrente 2 (ou deixe em branco): https://www.studiogeek.com.br/?srsltid=AfmBOoqw8G_f7uEiwriZ5jdxNdq5p4WSeFOozWgj8zjnEeq4AeX2dVCK\n",
            "Concorrente 3 (ou deixe em branco): https://www.geek10.com.br/?srsltid=AfmBOorHIKKetp51CdePFmrGFaWaY6eAR81Pm8dwvccMXpKId3GLOmVR\n"
          ]
        },
        {
          "output_type": "display_data",
          "data": {
            "text/plain": [
              "<IPython.core.display.Markdown object>"
            ],
            "text/markdown": "> **Resultado da Análise de Concorrentes:**\n> Ok, analisarei os concorrentes fornecidos (Nerdstore, Studio Geek e Geek10) para identificar oportunidades para a Multigeek. Aqui está a análise:\n> \n> \n> Com base nas informações coletadas, aqui está uma análise dos concorrentes da Multigeek:\n> \n> **Nerdstore**\n> \n> 1.  **Principais temas de conteúdo abordados:** Cultura nerd/geek em geral (filmes, séries, games, quadrinhos, etc.), produtos exclusivos da marca, reviews de produtos, notícias do mundo nerd, memes e humor relacionado ao universo geek. Conteúdo sobre o Jovem Nerd, já que a Nerdstore foi readquirida pelo grupo.\n> 2.  **Formatos de conteúdo mais utilizados:** Posts em redes sociais (Facebook, Instagram, Twitter), vídeos (YouTube), podcasts (NerdCast, embora não diretamente da Nerdstore, mas fortemente associado), artigos no blog (review de produtos e temas relacionados ao mundo nerd), promoções e sorteios.\n> 3.  **Estimativa da frequência de postagem:** Alta (várias vezes ao dia nas redes sociais, vídeos semanais no YouTube, podcasts semanais, posts regulares no blog).\n> 4.  **Pontos fortes da estratégia de conteúdo:** Forte identidade de marca associada ao Jovem Nerd, grande variedade de produtos exclusivos, conteúdo de alta qualidade e bem-humorado, forte engajamento com a comunidade nerd, utilização de diversos canais de comunicação. Eles conseguem criar um senso de comunidade e fidelização muito forte.\n> 5.  **Pontos fracos ou oportunidades que eles podem estar perdendo:** A transição após a venda para o Magalu parece ter gerado alguns problemas de atendimento e entrega. Explorar mais nichos específicos dentro do universo nerd/geek (ex: RPG, ficção científica, etc.) para atingir públicos mais segmentados.\n> 6.  **Hashtags comuns ou estratégias de palavras-chave que parecem usar:** #Nerdstore, #JovemNerd, #EuSouNerdstore, além de hashtags relacionadas a filmes, séries e games específicos. Palavras-chave relacionadas a produtos nerd/geek, cultura pop, humor nerd.\n> 7.  **Oportunidades de diferenciação para Multigeek:**\n>     *   **Conteúdo mais aprofundado e especializado:** Criar conteúdo mais aprofundado sobre temas específicos do universo nerd/geek, como análises detalhadas de filmes, séries, games, quadrinhos, etc. Isso pode atrair um público mais exigente e interessado em conteúdo de alta qualidade.\n>     *   **Foco em nichos específicos:** Explorar nichos específicos dentro do universo nerd/geek, como RPG, ficção científica, fantasia, etc. Isso pode atrair públicos mais segmentados e apaixonados por esses temas.\n> \n> **Studio Geek**\n> \n> 1.  **Principais temas de conteúdo abordados:** Camisetas e produtos personalizados com temas geek/nerd (filmes, séries, games, quadrinhos, etc.), promoções e descontos, novidades da loja, dicas de presentes para nerds/geeks. Blog com artigos sobre produtos da loja e temas relevantes para o público.\n> 2.  **Formatos de conteúdo mais utilizados:** Posts em redes sociais (Instagram, Facebook), fotos de produtos, vídeos curtos, stories, artigos no blog, promoções e cupons de desconto.\n> 3.  **Estimativa da frequência de postagem:** Média (postagens diárias nas redes sociais, posts semanais no blog).\n> 4.  **Pontos fortes da estratégia de conteúdo:** Foco em produtos personalizados, boa qualidade dos produtos, preços competitivos, promoções e descontos frequentes, blog com conteúdo relevante para o público. A possibilidade de personalização é um grande atrativo.\n> 5.  **Pontos fracos ou oportunidades que eles podem estar perdendo:** A reputação no Reclame Aqui é \"Regular\", com reclamações sobre entregas e devoluções. Explorar mais o conteúdo em vídeo (reviews de produtos, unboxings, etc.) para aumentar o engajamento. Investir em influenciadores digitais do nicho geek para aumentar a visibilidade da marca.\n> 6.  **Hashtags comuns ou estratégias de palavras-chave que parecem usar:** #StudioGeek, #Geek, #Nerd, #CamisetasGeek, #ProdutosGeek, além de hashtags relacionadas a filmes, séries e games específicos. Palavras-chave relacionadas a produtos personalizados, presentes para nerds/geeks, cultura pop.\n> 7.  **Oportunidades de diferenciação para Multigeek:**\n>     *   **Comunidade e experiência do cliente:** Criar uma comunidade online engajada em torno da marca, com fóruns de discussão, grupos de redes sociais, eventos online, etc. Focar em proporcionar uma excelente experiência de compra, com atendimento personalizado e entrega rápida.\n>     *   **Conteúdo gerado pelo usuário:** Incentivar os clientes a criarem conteúdo (fotos, vídeos, reviews) com os produtos da Multigeek, oferecendo prêmios e descontos.\n> \n> **Geek10**\n> \n> 1.  **Principais temas de conteúdo abordados:** Variedade de produtos geek/nerd (colecionáveis, decoração, vestuário, acessórios, etc.), promoções e descontos, lançamentos, dicas de presentes.\n> 2.  **Formatos de conteúdo mais utilizados:** Posts em redes sociais (Instagram, Facebook), fotos de produtos, vídeos curtos, promoções e cupons de desconto.\n> 3.  **Estimativa da frequência de postagem:** Média (postagens diárias nas redes sociais).\n> 4.  **Pontos fortes da estratégia de conteúdo:** Grande variedade de produtos, preços competitivos, promoções e descontos frequentes, presença em eventos geek/nerd.\n> 5.  **Pontos fracos ou oportunidades que eles podem estar perdendo:** O site parece ter alguns problemas (ex: \"Produto não encontrado\"). Criar conteúdo mais original e relevante para o público (artigos, vídeos, etc.) para aumentar o engajamento. Investir em SEO para melhorar o posicionamento nos resultados de busca do Google.\n> 6.  **Hashtags comuns ou estratégias de palavras-chave que parecem usar:** #Geek10, #Geek, #Nerd, #Colecionáveis, #DecoraçãoGeek, além de hashtags relacionadas a filmes, séries e games específicos. Palavras-chave relacionadas a produtos geek/nerd, presentes para nerds/geeks, cultura pop.\n> 7.  **Oportunidades de diferenciação para Multigeek:**\n>     *   **Curadoria e qualidade:** Focar em oferecer produtos de alta qualidade e originais, com curadoria especializada. Criar conteúdo que destaque a qualidade e o valor dos produtos.\n>     *   **Sustentabilidade e impacto social:** Adotar práticas sustentáveis e socialmente responsáveis, como utilizar materiais reciclados, apoiar projetos sociais, etc. Isso pode atrair um público mais consciente e engajado.\n> \n> **Resumo Consolidado e Oportunidades para Multigeek**\n> \n> Em geral, os concorrentes focam em:\n> \n> *   **Produtos:** Variedade (Nerdstore, Geek10) ou personalização (Studio Geek).\n> *   **Preço:** Promoções e descontos frequentes.\n> *   **Conteúdo:** Redes sociais (posts diários), blogs (posts semanais), vídeos (ocasionalmente).\n> \n> **Oportunidades de Diferenciação para Multigeek (Consolidado):**\n> \n> 1.  **Conteúdo Profundo e Nichado:** Análises detalhadas, exploração de nichos específicos (RPG, ficção científica), atraindo um público exigente.\n> 2.  **Comunidade e Experiência:** Criar uma comunidade online engajada, atendimento personalizado e entrega rápida. Conteúdo gerado pelos usuários.\n> 3.  **Curadoria, Qualidade e Propósito:** Produtos de alta qualidade com curadoria, práticas sustentáveis e impacto social.\n> \n> Ao focar nessas oportunidades, a Multigeek pode se diferenciar da concorrência e atrair um público fiel e engajado, impulsionando as vendas e o crescimento da empresa.\n> \n"
          },
          "metadata": {}
        },
        {
          "output_type": "stream",
          "name": "stdout",
          "text": [
            "--- 💡 Ideias de posts mensais ---\n"
          ]
        },
        {
          "output_type": "display_data",
          "data": {
            "text/plain": [
              "<IPython.core.display.Markdown object>"
            ],
            "text/markdown": "> Ok, vamos criar um calendário com 10 ideias de posts para a Multigeek, focando no nicho Nerd e Geek, com base na análise dos concorrentes e nas tendências atuais.\n> \n> \n> Aqui estão 10 ideias de posts para a Multigeek, focadas em aumentar as vendas, engajar o público e diferenciando-se da concorrência:\n> \n> **1. Tema/Título do Post:** \"Desafio Cosplay Criativo Multigeek: Mostre Seu Lado Nerd!\"\n> \n> *   **Pilar de Conteúdo:** Entretenimento, Prova Social, Comunidade.\n> *   **Sugestão de Formato:** Carrossel (fotos de cosplays inspiradores) + Vídeo Curto/Reels (desafio).\n> *   **Rascunho da Legenda:** \"Solte a criatividade e mostre seu melhor cosplay! Use #CosplayMultigeek e marque a @Multigeek para participar. Os melhores cosplays serão destaque em nosso perfil e ganharão um cupom de desconto exclusivo! 🤩 #CosplayBrasil #NerdBrasil #Multigeek #CulturaPop #CosplayChallenge\"\n> *   **Hashtags:** #CosplayMultigeek, #NerdBrasil, #CulturaPop, #CosplayChallenge, #Multigeek\n> \n> **2. Tema/Título do Post:** \"Review Nerd Sincero: [Nome do Produto] da Multigeek Vale a Pena?\"\n> \n> *   **Pilar de Conteúdo:** Educacional, Promocional (Review de Produto).\n> *   **Sugestão de Formato:** Vídeo Curto/Reels (review dinâmico e divertido).\n> *   **Rascunho da Legenda:** \"Testamos o [Nome do Produto] e contamos TUDO! 🕹️ Design, funcionalidades, durabilidade... Será que vale o hype? 🤔 Link na bio para garantir o seu com um desconto especial! #ReviewNerd #Multigeek #GeekBrasil #Unboxing #ValeAPena\"\n> *   **Hashtags:** #ReviewNerd, #Multigeek, #GeekBrasil, #Unboxing, #ValeAPena\n> \n> **3. Tema/Título do Post:** \"Quiz Multigeek: Qual Personagem Geek Você Seria?\"\n> \n> *   **Pilar de Conteúdo:** Entretenimento, Interação.\n> *   **Sugestão de Formato:** Story Interativo (quiz com perguntas e respostas).\n> *   **Rascunho da Legenda:** \"Responda às perguntas do nosso quiz e descubra qual personagem geek te representa! 🤓 Compartilhe seu resultado nos stories e marque a @Multigeek! #QuizNerd #Multigeek #GeekQuiz #QualPersonagem #CulturaPop\"\n> *   **Hashtags:** #QuizNerd, #Multigeek, #GeekQuiz, #QualPersonagem, #CulturaPop\n> \n> **4. Tema/Título do Post:** \"Por Dentro da Multigeek: Como Nossos Produtos Ganham Vida! 🎨\"\n> \n> *   **Pilar de Conteúdo:** Bastidores, Autenticidade.\n> *   **Sugestão de Formato:** Carrossel (fotos do processo de criação) + Vídeo Curto/Reels (time-lapse da produção).\n> *   **Rascunho da Legenda:** \"Acompanhe um pouco do processo criativo por trás dos seus produtos Multigeek favoritos! ✨ Do design à produção, cada detalhe é pensado com muito carinho para você. ❤️ #BastidoresMultigeek #Multigeek #FeitoComAmor #ProcessoCriativo #GeekArt\"\n> *   **Hashtags:** #BastidoresMultigeek, #Multigeek, #FeitoComAmor, #ProcessoCriativo, #GeekArt\n> \n> **5. Tema/Título do Post:** \"Promoção Relâmpago Multigeek: Descontos ÉPICOS por Tempo Limitado! ⚡\"\n> \n> *   **Pilar de Conteúdo:** Promocional.\n> *   **Sugestão de Formato:** Imagem única (destaque do produto em promoção).\n> *   **Rascunho da Legenda:** \"Preparem seus bolsos, nerds! 💥 A Promoção Relâmpago Multigeek chegou com descontos de até 50% em produtos selecionados! 😱 Mas corre, que é só por 24 horas! ⏳ Link na bio! #PromoçãoMultigeek #Multigeek #DescontoNerd #OfertaImperdível #GeekSale\"\n> *   **Hashtags:** #PromoçãoMultigeek, #Multigeek, #DescontoNerd, #OfertaImperdível, #GeekSale\n> \n> **6. Tema/Título do Post:** \"Multigeek Recomenda: [Filme/Série/Game] Que Todo Nerd Precisa Conhecer! 🎬\"\n> \n> *   **Pilar de Conteúdo:** Educacional, Entretenimento.\n> *   **Sugestão de Formato:** Imagem única (pôster do filme/série/game) + Texto/Legenda informativa.\n> *   **Rascunho da Legenda:** \"Se você ainda não assistiu/jogou [Filme/Série/Game], CORRE! 🏃‍♂️ Essa obra-prima é um prato cheio para os amantes da cultura geek. 😍 E, claro, temos produtos EXCLUSIVOS inspirados nela! 😉 #MultigeekRecomenda #Multigeek #DicaNerd #GeekRecommendation #CulturaPop\"\n> *   **Hashtags:** #MultigeekRecomenda, #Multigeek, #DicaNerd, #GeekRecommendation, #CulturaPop\n> \n> **7. Tema/Título do Post:** \"Enquete Multigeek: Qual Seu Item Geek Favorito da Nossa Loja?\"\n> \n> *   **Pilar de Conteúdo:** Interação, Pesquisa de Opinião.\n> *   **Sugestão de Formato:** Story Interativo (enquete com opções de produtos).\n> *   **Rascunho da Legenda:** \"Queremos saber: qual item da Multigeek te faz brilhar os olhos? ✨ Vote na sua opção favorita nos stories! 👀 #EnqueteMultigeek #Multigeek #GeekPoll #SeuFavorito #CulturaPop\"\n> *   **Hashtags:** #EnqueteMultigeek, #Multigeek, #GeekPoll, #SeuFavorito, #CulturaPop\n> \n> **8. Tema/Título do Post:** \"Mito ou Verdade Nerd: Desvendamos os Segredos da Cultura Pop! 🤔\"\n> \n> *   **Pilar de Conteúdo:** Educacional, Entretenimento.\n> *   **Sugestão de Formato:** Carrossel (cards com mitos e verdades).\n> *   **Rascunho da Legenda:** \"Será que você sabe TUDO sobre o universo nerd? 🤔 Teste seus conhecimentos com o nosso \"Mito ou Verdade\" e descubra curiosidades INCRÍVEIS! 🤯 #MitoOuVerdadeNerd #Multigeek #CuriosidadesGeek #GeekFacts #CulturaPop\"\n> *   **Hashtags:** #MitoOuVerdadeNerd, #Multigeek, #CuriosidadesGeek, #GeekFacts, #CulturaPop\n> \n> **9. Tema/Título do Post:** \"Dia do Orgulho Nerd: Comemore com Descontos e Conteúdo Exclusivo na Multigeek! 🤓 (25 de Maio)\"\n> \n> *   **Pilar de Conteúdo:** Promocional, Comemoração.\n> *   **Sugestão de Formato:** Imagem/Vídeo comemorativo.\n> *   **Rascunho da Legenda:** \"Hoje é o nosso dia! 🥳 Dia de celebrar a paixão pela cultura nerd, pelos games, filmes, séries e quadrinhos! E, para comemorar, preparamos descontos INACREDITÁVEIS e conteúdo exclusivo! 🎉 #DiaDoOrgulhoNerd #Multigeek #GeekPrideDay #NerdDay #CulturaPop\"\n> *   **Hashtags:** #DiaDoOrgulhoNerd, #Multigeek, #GeekPrideDay, #NerdDay, #CulturaPop\n> \n> **10. Tema/Título do Post:** \"Tendências Geek 2025: O Que Está Bombando no Mundo Nerd! 🚀\"\n> \n> *   **Pilar de Conteúdo:** Educacional, Novidades.\n> *   **Sugestão de Formato:** Artigo no Blog + Link no Stories/Bio.\n> *   **Rascunho da Legenda:** \"Fique por dentro das últimas tendências do universo geek! 🚀 Animes, games, filmes, séries... Descubra o que está bombando em 2025 e prepare-se para o futuro! 😉 Link na bio! #TendenciasGeek #Multigeek #GeekTrends #CulturaPop #NerdNews\"\n> *   **Hashtags:** #TendenciasGeek, #Multigeek, #GeekTrends, #CulturaPop, #NerdNews\n> \n> Espero que essas ideias ajudem a Multigeek a alcançar seus objetivos de marketing!\n"
          },
          "metadata": {}
        },
        {
          "output_type": "stream",
          "name": "stdout",
          "text": [
            "\n",
            "Qual módulo você gostaria de acessar?\n",
            "1. Análise de Concorrentes\n",
            "2. Ideias de posts mensais\n",
            "3. Otimização de Horários\n",
            "4. Análise do meu perfil e sugestões de melhoria\n",
            "5. Executar todos os módulos em sequência\n",
            "0. Finalizar\n",
            "Escolha uma opção: 3\n",
            "\n",
            "--- Executando Otimização de Horários ---\n",
            "--- ⏰ Melhores Horários para Agendamento ---\n"
          ]
        },
        {
          "output_type": "display_data",
          "data": {
            "text/plain": [
              "<IPython.core.display.Markdown object>"
            ],
            "text/markdown": "> Ok, vou sugerir os melhores horários de postagem para o nicho Nerd e Geek nas plataformas Instagram, Facebook e Pinterest, com foco no público-alvo de jovens e adultos que amam a cultura pop. Usarei pesquisas para encontrar dados e estudos recentes sobre os horários de pico de atividade nessas plataformas para este nicho.\n> \n> \n> Com base nas pesquisas realizadas, aqui estão algumas sugestões de horários de postagem para o seu nicho (Nerd e Geek) nas plataformas Instagram, Facebook e Pinterest, visando o público-alvo de jovens e adultos que amam a cultura pop:\n> \n> **Instagram:**\n> \n> *   **Melhores dias:** Terça a Sexta-feira.\n> *   **Horários:**\n>     *   Geralmente, entre 10h e 16h.\n>     *   Segunda-feira: 10h às 16h.\n>     *   Terça-feira: das 10h às 14h.\n>     *   Quarta-feira: das 10h às 16h.\n>     *   Quinta-feira: das 10h às 15h.\n>     *   Sexta-feira: 11h e 14h.\n>     *   Sábado: das 9h às 16h.\n>     *   Domingo: das 10h ao meio-dia e às 15h.\n>     *   Para Reels, terça-feira das 9h às 13h pode ter maior engajamento, e sexta-feira das 9h às 15h pode ter mais compartilhamentos.\n> *   **Dicas:**\n>     *   Sexta-feira é considerada um bom dia para postar no Instagram.\n>     *   Evite postar aos domingos, pois é o dia com menor engajamento.\n>     *   Use hashtags relevantes para aumentar a visibilidade. Combine hashtags populares com as específicas do nicho Nerd e Geek.\n>     *   Interaja com o público respondendo a comentários e usando enquetes nos Stories.\n>     *   Posts com temáticas de entretenimento e cultura pop tendem a ter mais engajamento entre 20h e 22h de quinta a domingo.\n>     *   Monitore os resultados e ajuste a estratégia conforme necessário, usando as ferramentas de análise do Instagram.\n> \n> **Facebook:**\n> \n> *   **Melhores dias:** Quarta-feira é frequentemente citado como o melhor dia. Dias de semana (segunda a sexta) costumam ter mais engajamento que fins de semana\n> *   **Horários:**\n>     *   Geralmente, entre 9h e 15h durante a semana.\n>     *   Quarta-feira: 11h às 14h.\n>     *   Se o objetivo é engajar, horários próximos da manhã (9h-12h) e o período de 17h às 19h podem funcionar bem.\n>     *   Segunda-feira: das 9h ao meio-dia.\n>     *   Terça-feira: das 9h ao meio-dia.\n>     *   Quarta-feira: das 8h às 11h e das 15h às 17h.\n>     *   Quinta-feira: das 8h ao meio-dia.\n>     *   Sexta-feira: das 9h às 10h da manhã\n>     *   Sábado: das 9 às 10 da manhã\n>     *   Domingo: das 8h às 13h.\n> *   **Dicas:**\n>     *   Evite postar aos sábados, pois é um dia de baixa atividade.\n>     *   Considere que o pico de atividade no Facebook tende a ser mais cedo do que no Instagram.\n> \n> **Pinterest:**\n> \n> *   **Melhores dias:** Quarta-feira, sábados e domingos são frequentemente citados, mas o engajamento no meio do dia é alto em todos os dias da semana.\n> *   **Horários:**\n>     *   Geralmente, 13h é um bom horário para postar em qualquer dia da semana.\n>     *   Picos adicionais: 14h às 16h e 20h às 23h (especialmente em dias úteis).\n>     *   O tráfego tende a ser maior nos finais de semana, com crescimento progressivo a partir das 12h.\n> *   **Dicas:**\n>     *   Constância é fundamental no Pinterest.\n>     *   Fotos que não contêm rostos humanos podem ter mais chances de serem compartilhadas.\n> \n> **Dicas Adicionais:**\n> \n> *   **Frequência de Postagem:** Mantenha uma frequência constante de postagens, respeitando os horários e dias da semana ideais para cada plataforma.\n> *   **Teste e Adapte:** Estas são sugestões gerais. O ideal é testar diferentes horários e analisar os seus próprios dados para identificar os horários de melhor desempenho para o seu público específico.\n> *   **Ferramentas de Análise:** Utilize as ferramentas de análise de cada plataforma para monitorar o engajamento e ajustar sua estratégia de acordo com os resultados.\n> *   **Conteúdo de Valor:** Além de postar nos horários certos, certifique-se de que o seu conteúdo seja relevante, interessante e de alta qualidade para o seu público-alvo.\n> \n> Lembre-se que o comportamento do público pode mudar com o tempo, por isso é importante monitorar as tendências e adaptar sua estratégia de acordo.\n> \n"
          },
          "metadata": {}
        },
        {
          "output_type": "stream",
          "name": "stdout",
          "text": [
            "\n",
            "Qual módulo você gostaria de acessar?\n",
            "1. Análise de Concorrentes\n",
            "2. Ideias de posts mensais\n",
            "3. Otimização de Horários\n",
            "4. Análise do meu perfil e sugestões de melhoria\n",
            "5. Executar todos os módulos em sequência\n",
            "0. Finalizar\n",
            "Escolha uma opção: 0\n",
            "Obrigado por usar o Assistente de Marketing Digital! Até logo! 👋\n"
          ]
        }
      ]
    },
    {
      "cell_type": "code",
      "source": [],
      "metadata": {
        "id": "HOsnIPEyutSQ"
      },
      "execution_count": null,
      "outputs": []
    }
  ]
}